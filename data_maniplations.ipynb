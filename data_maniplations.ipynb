{
 "cells": [
  {
   "cell_type": "code",
   "id": "initial_id",
   "metadata": {
    "collapsed": true,
    "ExecuteTime": {
     "end_time": "2025-08-07T14:28:19.400877Z",
     "start_time": "2025-08-07T14:28:19.397855Z"
    }
   },
   "source": "ls hl-node-fills/",
   "outputs": [],
   "execution_count": 1
  },
  {
   "metadata": {
    "jupyter": {
     "is_executing": true
    }
   },
   "cell_type": "code",
   "source": "ls hl-node-trades/20250525/",
   "id": "d208151c09e63b46",
   "outputs": [],
   "execution_count": null
  },
  {
   "metadata": {
    "ExecuteTime": {
     "end_time": "2025-08-07T14:28:14.321298Z",
     "start_time": "2025-08-07T14:28:14.318768Z"
    }
   },
   "cell_type": "code",
   "source": "!realpath hl-node-trades/20250525",
   "id": "76017b26802e5834",
   "outputs": [],
   "execution_count": null
  },
  {
   "metadata": {
    "ExecuteTime": {
     "end_time": "2025-08-07T14:28:14.403351Z",
     "start_time": "2025-08-07T14:28:14.401011Z"
    }
   },
   "cell_type": "code",
   "source": [
    "import os\n",
    "import ujson as json\n",
    "import pandas as pd\n",
    "\n",
    "import lz4.frame\n",
    "from loguru import logger"
   ],
   "id": "7f7c0d3bf0fdd727",
   "outputs": [],
   "execution_count": null
  },
  {
   "metadata": {
    "ExecuteTime": {
     "end_time": "2025-08-07T14:28:14.417218Z",
     "start_time": "2025-08-07T14:28:14.414479Z"
    }
   },
   "cell_type": "code",
   "source": [
    "BASE_DIR = os.getcwd()\n",
    "\n",
    "old_data_dates = os.listdir(os.path.join(BASE_DIR, \"hl-node-trades\"))"
   ],
   "id": "dbcf6b94de8b6022",
   "outputs": [],
   "execution_count": null
  },
  {
   "metadata": {
    "ExecuteTime": {
     "end_time": "2025-08-07T14:28:14.468529Z",
     "start_time": "2025-08-07T14:28:14.465917Z"
    }
   },
   "cell_type": "code",
   "source": [
    "def retrieve_data(file_path):\n",
    "    records = []\n",
    "\n",
    "    with open(file_path) as f:\n",
    "        append = records.append\n",
    "        for line in f:\n",
    "            trade = json.loads(line)\n",
    "            for side_info, side in zip(trade.get(\"side_info\"), [\"A\", \"B\"]):\n",
    "                append(\n",
    "                    {\n",
    "                        \"coin\": trade.get(\"coin\"),\n",
    "                        \"price\": float(trade.get(\"px\")),\n",
    "                        \"size\": float(trade.get(\"sz\")),\n",
    "                        \"time\": trade.get(\"time\"),\n",
    "                        \"side\": side,\n",
    "                        \"wallet\": side_info.get(\"user\"),\n",
    "                    }\n",
    "                )\n",
    "\n",
    "    df = pd.DataFrame.from_records(records)\n",
    "    df[\"time\"] = pd.to_datetime(df[\"time\"])\n",
    "    return df\n",
    "\n",
    "\n",
    "def filter_data(df, coin):\n",
    "    return df[df[\"coin\"] == coin]\n",
    "\n",
    "\n",
    "def save_data(df, output_file):\n",
    "    # Write to disk\n",
    "    if not df.empty:\n",
    "        df.to_parquet(output_file, index=False, engine='pyarrow', compression='snappy', append=os.path.exists(output_file))\n",
    "        logger.info(\"Data has been saved successfully.\")\n",
    "    else:\n",
    "        logger.warnning(\"No data to save.\")\n"
   ],
   "id": "be253608d1378f15",
   "outputs": [],
   "execution_count": null
  },
  {
   "metadata": {
    "ExecuteTime": {
     "end_time": "2025-08-07T14:28:14.522152Z",
     "start_time": "2025-08-07T14:28:14.518772Z"
    }
   },
   "cell_type": "code",
   "source": [
    "coin = \"ETH\"\n",
    "old_data_folders = os.listdir(os.path.join(BASE_DIR, \"hl-node-trades\"))\n",
    "\n",
    "for date in old_data_folders:\n",
    "    hour_file_names = os.listdir(os.path.join(BASE_DIR, \"hl-node-trades\", date))\n",
    "\n",
    "    for file_name in hour_file_names:\n",
    "        file_full_path = os.path.join(BASE_DIR, \"hl-node-trades\", date, file_name)\n",
    "        result_full_path = os.path.join(BASE_DIR, \"hl-node-trades\", coin)\n",
    "\n",
    "        df = retrieve_data(file_full_path)\n",
    "        df = filter_data(df, coin)\n",
    "        save_data(df, result_full_path)\n",
    "\n",
    "    break"
   ],
   "id": "acd285a461003814",
   "outputs": [],
   "execution_count": null
  },
  {
   "metadata": {
    "ExecuteTime": {
     "end_time": "2025-08-07T14:28:14.574135Z",
     "start_time": "2025-08-07T14:28:14.570969Z"
    }
   },
   "cell_type": "code",
   "source": "",
   "id": "2e3f9fabc7746c18",
   "outputs": [],
   "execution_count": null
  },
  {
   "metadata": {
    "ExecuteTime": {
     "end_time": "2025-08-07T14:28:14.630828Z",
     "start_time": "2025-08-07T14:28:14.627980Z"
    }
   },
   "cell_type": "code",
   "source": "",
   "id": "8426136bce776733",
   "outputs": [],
   "execution_count": null
  },
  {
   "metadata": {
    "ExecuteTime": {
     "end_time": "2025-08-07T14:28:14.682672Z",
     "start_time": "2025-08-07T14:28:14.679552Z"
    }
   },
   "cell_type": "code",
   "source": "",
   "id": "e92f2d2a9cd7d93b",
   "outputs": [],
   "execution_count": null
  },
  {
   "metadata": {
    "ExecuteTime": {
     "end_time": "2025-08-07T14:28:14.734486Z",
     "start_time": "2025-08-07T14:28:14.731614Z"
    }
   },
   "cell_type": "code",
   "source": "",
   "id": "83efbd5b7813f05d",
   "outputs": [],
   "execution_count": null
  },
  {
   "metadata": {
    "ExecuteTime": {
     "end_time": "2025-08-07T14:28:14.785636Z",
     "start_time": "2025-08-07T14:28:14.783052Z"
    }
   },
   "cell_type": "code",
   "source": "",
   "id": "de2fa8b7b8fe2ffe",
   "outputs": [],
   "execution_count": null
  },
  {
   "metadata": {
    "ExecuteTime": {
     "end_time": "2025-08-07T14:28:14.837570Z",
     "start_time": "2025-08-07T14:28:14.834629Z"
    }
   },
   "cell_type": "code",
   "source": "",
   "id": "32e594574217264c",
   "outputs": [],
   "execution_count": null
  },
  {
   "metadata": {
    "ExecuteTime": {
     "end_time": "2025-08-07T14:28:14.890020Z",
     "start_time": "2025-08-07T14:28:14.887339Z"
    }
   },
   "cell_type": "code",
   "source": "",
   "id": "68d0efafb9908d12",
   "outputs": [],
   "execution_count": null
  },
  {
   "metadata": {
    "ExecuteTime": {
     "end_time": "2025-08-07T14:28:14.942641Z",
     "start_time": "2025-08-07T14:28:14.939568Z"
    }
   },
   "cell_type": "code",
   "source": "",
   "id": "2af844e7bc9b3c9c",
   "outputs": [],
   "execution_count": null
  },
  {
   "metadata": {
    "ExecuteTime": {
     "end_time": "2025-08-07T14:28:14.994712Z",
     "start_time": "2025-08-07T14:28:14.991613Z"
    }
   },
   "cell_type": "code",
   "source": "",
   "id": "b5d25f00cd37feb4",
   "outputs": [],
   "execution_count": null
  },
  {
   "metadata": {
    "ExecuteTime": {
     "end_time": "2025-08-07T14:28:15.046308Z",
     "start_time": "2025-08-07T14:28:15.043603Z"
    }
   },
   "cell_type": "code",
   "source": "",
   "id": "c2e630a176d93e21",
   "outputs": [],
   "execution_count": null
  },
  {
   "metadata": {},
   "cell_type": "code",
   "outputs": [],
   "execution_count": null,
   "source": "",
   "id": "c5bf3a146d858753"
  }
 ],
 "metadata": {
  "kernelspec": {
   "display_name": "Python [conda env:base] *",
   "language": "python",
   "name": "conda-base-py"
  },
  "language_info": {
   "codemirror_mode": {
    "name": "ipython",
    "version": 2
   },
   "file_extension": ".py",
   "mimetype": "text/x-python",
   "name": "python",
   "nbconvert_exporter": "python",
   "pygments_lexer": "ipython2",
   "version": "2.7.6"
  }
 },
 "nbformat": 4,
 "nbformat_minor": 5
}

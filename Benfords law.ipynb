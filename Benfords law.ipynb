{
 "cells": [
  {
   "cell_type": "code",
   "id": "initial_id",
   "metadata": {
    "collapsed": true,
    "ExecuteTime": {
     "end_time": "2025-10-14T14:11:29.362576Z",
     "start_time": "2025-10-14T14:11:28.788201Z"
    }
   },
   "source": [
    "import pandas as pd\n",
    "import matplotlib.pyplot as plt\n",
    "import numpy as np\n",
    "from collections import Counter"
   ],
   "outputs": [],
   "execution_count": 1
  },
  {
   "metadata": {
    "ExecuteTime": {
     "end_time": "2025-10-14T14:12:07.646163Z",
     "start_time": "2025-10-14T14:12:05.953674Z"
    }
   },
   "cell_type": "code",
   "source": [
    "from src.data_handler import CoinDataStore\n",
    "\n",
    "store = CoinDataStore(\"AVAX\")\n",
    "df_avax = store.load_all()\n",
    "df_avax"
   ],
   "id": "1c25746fed8c892a",
   "outputs": [
    {
     "data": {
      "text/plain": [
       "             price        size                          time  seller   buyer\n",
       "0        19.521999  213.199997 2025-03-22 10:50:22.930512310       8     658\n",
       "1        19.521999    1.000000 2025-03-22 10:50:23.731759790      19     658\n",
       "2        19.525999   11.820000 2025-03-22 10:50:43.490273671     161    1260\n",
       "3        19.525999   39.150002 2025-03-22 10:50:43.490273671     161   19500\n",
       "4        19.525000    8.800000 2025-03-22 10:50:43.490273671     161     240\n",
       "...            ...         ...                           ...     ...     ...\n",
       "1478242  24.966999    1.210000 2025-07-27 08:44:33.762000000       8    1527\n",
       "1478243  24.971001  308.359985 2025-07-27 08:44:59.437000000     161    5135\n",
       "1478244  24.971001  203.639999 2025-07-27 08:44:59.437000000     892    5135\n",
       "1478245  24.971001   11.940000 2025-07-27 08:45:07.130000000      19  170117\n",
       "1478246  24.975000    0.670000 2025-07-27 08:45:47.161000000    5165      19\n",
       "\n",
       "[1478247 rows x 5 columns]"
      ],
      "text/html": [
       "<div>\n",
       "<style scoped>\n",
       "    .dataframe tbody tr th:only-of-type {\n",
       "        vertical-align: middle;\n",
       "    }\n",
       "\n",
       "    .dataframe tbody tr th {\n",
       "        vertical-align: top;\n",
       "    }\n",
       "\n",
       "    .dataframe thead th {\n",
       "        text-align: right;\n",
       "    }\n",
       "</style>\n",
       "<table border=\"1\" class=\"dataframe\">\n",
       "  <thead>\n",
       "    <tr style=\"text-align: right;\">\n",
       "      <th></th>\n",
       "      <th>price</th>\n",
       "      <th>size</th>\n",
       "      <th>time</th>\n",
       "      <th>seller</th>\n",
       "      <th>buyer</th>\n",
       "    </tr>\n",
       "  </thead>\n",
       "  <tbody>\n",
       "    <tr>\n",
       "      <th>0</th>\n",
       "      <td>19.521999</td>\n",
       "      <td>213.199997</td>\n",
       "      <td>2025-03-22 10:50:22.930512310</td>\n",
       "      <td>8</td>\n",
       "      <td>658</td>\n",
       "    </tr>\n",
       "    <tr>\n",
       "      <th>1</th>\n",
       "      <td>19.521999</td>\n",
       "      <td>1.000000</td>\n",
       "      <td>2025-03-22 10:50:23.731759790</td>\n",
       "      <td>19</td>\n",
       "      <td>658</td>\n",
       "    </tr>\n",
       "    <tr>\n",
       "      <th>2</th>\n",
       "      <td>19.525999</td>\n",
       "      <td>11.820000</td>\n",
       "      <td>2025-03-22 10:50:43.490273671</td>\n",
       "      <td>161</td>\n",
       "      <td>1260</td>\n",
       "    </tr>\n",
       "    <tr>\n",
       "      <th>3</th>\n",
       "      <td>19.525999</td>\n",
       "      <td>39.150002</td>\n",
       "      <td>2025-03-22 10:50:43.490273671</td>\n",
       "      <td>161</td>\n",
       "      <td>19500</td>\n",
       "    </tr>\n",
       "    <tr>\n",
       "      <th>4</th>\n",
       "      <td>19.525000</td>\n",
       "      <td>8.800000</td>\n",
       "      <td>2025-03-22 10:50:43.490273671</td>\n",
       "      <td>161</td>\n",
       "      <td>240</td>\n",
       "    </tr>\n",
       "    <tr>\n",
       "      <th>...</th>\n",
       "      <td>...</td>\n",
       "      <td>...</td>\n",
       "      <td>...</td>\n",
       "      <td>...</td>\n",
       "      <td>...</td>\n",
       "    </tr>\n",
       "    <tr>\n",
       "      <th>1478242</th>\n",
       "      <td>24.966999</td>\n",
       "      <td>1.210000</td>\n",
       "      <td>2025-07-27 08:44:33.762000000</td>\n",
       "      <td>8</td>\n",
       "      <td>1527</td>\n",
       "    </tr>\n",
       "    <tr>\n",
       "      <th>1478243</th>\n",
       "      <td>24.971001</td>\n",
       "      <td>308.359985</td>\n",
       "      <td>2025-07-27 08:44:59.437000000</td>\n",
       "      <td>161</td>\n",
       "      <td>5135</td>\n",
       "    </tr>\n",
       "    <tr>\n",
       "      <th>1478244</th>\n",
       "      <td>24.971001</td>\n",
       "      <td>203.639999</td>\n",
       "      <td>2025-07-27 08:44:59.437000000</td>\n",
       "      <td>892</td>\n",
       "      <td>5135</td>\n",
       "    </tr>\n",
       "    <tr>\n",
       "      <th>1478245</th>\n",
       "      <td>24.971001</td>\n",
       "      <td>11.940000</td>\n",
       "      <td>2025-07-27 08:45:07.130000000</td>\n",
       "      <td>19</td>\n",
       "      <td>170117</td>\n",
       "    </tr>\n",
       "    <tr>\n",
       "      <th>1478246</th>\n",
       "      <td>24.975000</td>\n",
       "      <td>0.670000</td>\n",
       "      <td>2025-07-27 08:45:47.161000000</td>\n",
       "      <td>5165</td>\n",
       "      <td>19</td>\n",
       "    </tr>\n",
       "  </tbody>\n",
       "</table>\n",
       "<p>1478247 rows × 5 columns</p>\n",
       "</div>"
      ]
     },
     "execution_count": 2,
     "metadata": {},
     "output_type": "execute_result"
    }
   ],
   "execution_count": 2
  },
  {
   "metadata": {
    "ExecuteTime": {
     "end_time": "2025-10-14T14:12:22.808500Z",
     "start_time": "2025-10-14T14:12:22.050082Z"
    }
   },
   "cell_type": "code",
   "source": [
    "# Load CSV\n",
    "df = df_avax.copy()\n",
    "\n",
    "# Example: take trade amounts\n",
    "trade_amounts = df['size'].astype(str)  # convert to string"
   ],
   "id": "f00b689a3f217eb1",
   "outputs": [],
   "execution_count": 3
  },
  {
   "metadata": {
    "ExecuteTime": {
     "end_time": "2025-10-14T14:12:37.983921Z",
     "start_time": "2025-10-14T14:12:37.493086Z"
    }
   },
   "cell_type": "code",
   "source": [
    "# Extract first non-zero digit from each trade amount\n",
    "def first_digit(x):\n",
    "    for c in x:\n",
    "        if c.isdigit() and c != '0':\n",
    "            return int(c)\n",
    "    return None\n",
    "\n",
    "first_digits = trade_amounts.apply(first_digit)\n",
    "first_digits = first_digits.dropna()\n"
   ],
   "id": "9cc907b9a41f1f1c",
   "outputs": [],
   "execution_count": 4
  },
  {
   "metadata": {
    "ExecuteTime": {
     "end_time": "2025-10-14T14:12:41.186048Z",
     "start_time": "2025-10-14T14:12:41.038823Z"
    }
   },
   "cell_type": "code",
   "source": [
    "digit_counts = Counter(first_digits)\n",
    "total = sum(digit_counts.values())\n",
    "\n",
    "observed_freq = {d: digit_counts.get(d, 0) / total for d in range(1, 10)}"
   ],
   "id": "5a31ee3e5ac67e87",
   "outputs": [],
   "execution_count": 5
  },
  {
   "metadata": {
    "ExecuteTime": {
     "end_time": "2025-10-14T14:12:44.849749Z",
     "start_time": "2025-10-14T14:12:44.847131Z"
    }
   },
   "cell_type": "code",
   "source": "expected_freq = {d: np.log10(1 + 1/d) for d in range(1, 10)}\n",
   "id": "84305310a1a5593d",
   "outputs": [],
   "execution_count": 6
  },
  {
   "metadata": {
    "ExecuteTime": {
     "end_time": "2025-10-14T14:12:47.851386Z",
     "start_time": "2025-10-14T14:12:47.680709Z"
    }
   },
   "cell_type": "code",
   "source": [
    "digits = range(1, 10)\n",
    "obs = [observed_freq[d] for d in digits]\n",
    "exp = [expected_freq[d] for d in digits]\n",
    "\n",
    "plt.figure(figsize=(8,5))\n",
    "plt.bar(digits, obs, alpha=0.6, label='Observed')\n",
    "plt.plot(digits, exp, 'ro-', label='Benford Expected')\n",
    "plt.xlabel('First Digit')\n",
    "plt.ylabel('Frequency')\n",
    "plt.title('Benford Analysis of Trade Amounts')\n",
    "plt.xticks(digits)\n",
    "plt.legend()\n",
    "plt.show()\n"
   ],
   "id": "89316cfeb8188bd2",
   "outputs": [
    {
     "data": {
      "text/plain": [
       "<Figure size 800x500 with 1 Axes>"
      ],
      "image/png": "[encoded data removed]"
     },
     "metadata": {},
     "output_type": "display_data",
     "jetTransient": {
      "display_id": null
     }
    }
   ],
   "execution_count": 7
  },
  {
   "metadata": {
    "ExecuteTime": {
     "end_time": "2025-10-14T14:13:00.073347Z",
     "start_time": "2025-10-14T14:12:59.588052Z"
    }
   },
   "cell_type": "code",
   "source": [
    "from scipy.stats import chisquare\n",
    "\n",
    "chi_stat, p_value = chisquare(f_obs=[digit_counts.get(d,0) for d in digits],\n",
    "                              f_exp=[expected_freq[d]*total for d in digits])\n",
    "\n",
    "print(\"Chi-square statistic:\", chi_stat)\n",
    "print(\"p-value:\", p_value)"
   ],
   "id": "1212da4cb6e9d406",
   "outputs": [
    {
     "name": "stdout",
     "output_type": "stream",
     "text": [
      "Chi-square statistic: 27676.281645129886\n",
      "p-value: 0.0\n"
     ]
    }
   ],
   "execution_count": 8
  },
  {
   "metadata": {},
   "cell_type": "code",
   "outputs": [],
   "execution_count": null,
   "source": "",
   "id": "19be585f328a916c"
  }
 ],
 "metadata": {
  "kernelspec": {
   "display_name": "Python 3",
   "language": "python",
   "name": "python3"
  },
  "language_info": {
   "codemirror_mode": {
    "name": "ipython",
    "version": 2
   },
   "file_extension": ".py",
   "mimetype": "text/x-python",
   "name": "python",
   "nbconvert_exporter": "python",
   "pygments_lexer": "ipython2",
   "version": "2.7.6"
  }
 },
 "nbformat": 4,
 "nbformat_minor": 5
}
